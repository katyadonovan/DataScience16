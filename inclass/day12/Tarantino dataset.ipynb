{
 "cells": [
  {
   "cell_type": "code",
   "execution_count": 142,
   "metadata": {
    "collapsed": false
   },
   "outputs": [
    {
     "name": "stdout",
     "output_type": "stream",
     "text": [
      "<class 'pandas.core.frame.DataFrame'>\n",
      "Int64Index: 1894 entries, 0 to 1893\n",
      "Data columns (total 4 columns):\n",
      "movie         1894 non-null object\n",
      "type          1894 non-null object\n",
      "word          1704 non-null object\n",
      "minutes_in    1894 non-null float64\n",
      "dtypes: float64(1), object(3)\n",
      "memory usage: 74.0+ KB\n"
     ]
    }
   ],
   "source": [
    "import pandas as pd\n",
    "import seaborn as sb\n",
    "import matplotlib as mpl\n",
    "import matplotlib.pyplot as plt\n",
    "import numpy as np\n",
    "%matplotlib inline\n",
    "\n",
    "df = pd.read_csv('tarantino.csv')\n",
    "\n",
    "df.info()"
   ]
  },
  {
   "cell_type": "code",
   "execution_count": 143,
   "metadata": {
    "collapsed": false
   },
   "outputs": [
    {
     "data": {
      "text/html": [
       "<div>\n",
       "<table border=\"1\" class=\"dataframe\">\n",
       "  <thead>\n",
       "    <tr style=\"text-align: right;\">\n",
       "      <th></th>\n",
       "      <th>movie</th>\n",
       "      <th>type</th>\n",
       "      <th>word</th>\n",
       "      <th>minutes_in</th>\n",
       "    </tr>\n",
       "  </thead>\n",
       "  <tbody>\n",
       "    <tr>\n",
       "      <th>0</th>\n",
       "      <td>Reservoir Dogs</td>\n",
       "      <td>word</td>\n",
       "      <td>dick</td>\n",
       "      <td>0.40</td>\n",
       "    </tr>\n",
       "    <tr>\n",
       "      <th>1</th>\n",
       "      <td>Reservoir Dogs</td>\n",
       "      <td>word</td>\n",
       "      <td>dicks</td>\n",
       "      <td>0.43</td>\n",
       "    </tr>\n",
       "    <tr>\n",
       "      <th>2</th>\n",
       "      <td>Reservoir Dogs</td>\n",
       "      <td>word</td>\n",
       "      <td>fucked</td>\n",
       "      <td>0.55</td>\n",
       "    </tr>\n",
       "    <tr>\n",
       "      <th>3</th>\n",
       "      <td>Reservoir Dogs</td>\n",
       "      <td>word</td>\n",
       "      <td>fucking</td>\n",
       "      <td>0.61</td>\n",
       "    </tr>\n",
       "    <tr>\n",
       "      <th>4</th>\n",
       "      <td>Reservoir Dogs</td>\n",
       "      <td>word</td>\n",
       "      <td>bullshit</td>\n",
       "      <td>0.61</td>\n",
       "    </tr>\n",
       "  </tbody>\n",
       "</table>\n",
       "</div>"
      ],
      "text/plain": [
       "            movie  type      word  minutes_in\n",
       "0  Reservoir Dogs  word      dick        0.40\n",
       "1  Reservoir Dogs  word     dicks        0.43\n",
       "2  Reservoir Dogs  word    fucked        0.55\n",
       "3  Reservoir Dogs  word   fucking        0.61\n",
       "4  Reservoir Dogs  word  bullshit        0.61"
      ]
     },
     "execution_count": 143,
     "metadata": {},
     "output_type": "execute_result"
    }
   ],
   "source": [
    "df.head()"
   ]
  },
  {
   "cell_type": "markdown",
   "metadata": {},
   "source": [
    "WOW! We have data to look at. First we are going to count just the number of fucks."
   ]
  },
  {
   "cell_type": "code",
   "execution_count": 144,
   "metadata": {
    "collapsed": false
   },
   "outputs": [
    {
     "name": "stdout",
     "output_type": "stream",
     "text": [
      "0                dick\n",
      "1               dicks\n",
      "2              fucked\n",
      "3             fucking\n",
      "4            bullshit\n",
      "5                fuck\n",
      "6                shit\n",
      "7                fuck\n",
      "8               dicks\n",
      "9                fuck\n",
      "10               dick\n",
      "11               dick\n",
      "12               dick\n",
      "13               dick\n",
      "14               dick\n",
      "15               dick\n",
      "16               dick\n",
      "17              dicks\n",
      "18       motherfucker\n",
      "19               dick\n",
      "20              pussy\n",
      "21              fucks\n",
      "22               fuck\n",
      "23            fucking\n",
      "24               hell\n",
      "25            fucking\n",
      "26            fucking\n",
      "27               dick\n",
      "28                jap\n",
      "29               fuck\n",
      "            ...      \n",
      "1864    motherfucking\n",
      "1865              ass\n",
      "1866    motherfucking\n",
      "1867             fuck\n",
      "1868          goddamn\n",
      "1869          fucking\n",
      "1870              ass\n",
      "1871     motherfucker\n",
      "1872     motherfucker\n",
      "1873          n-word \n",
      "1874             shit\n",
      "1875              ass\n",
      "1876          dumbass\n",
      "1877         bullshit\n",
      "1878          fucking\n",
      "1879              ass\n",
      "1880          n-word \n",
      "1881          goddamn\n",
      "1882         bullshit\n",
      "1883            bitch\n",
      "1884          goddamn\n",
      "1885     motherfucker\n",
      "1886          n-word \n",
      "1887     motherfucker\n",
      "1888     motherfucker\n",
      "1889     motherfucker\n",
      "1890              ass\n",
      "1891          fucking\n",
      "1892          goddamn\n",
      "1893              NaN\n",
      "Name: word, dtype: object\n"
     ]
    }
   ],
   "source": [
    "print df['word']"
   ]
  },
  {
   "cell_type": "code",
   "execution_count": 145,
   "metadata": {
    "collapsed": false
   },
   "outputs": [
    {
     "data": {
      "text/plain": [
       "0       False\n",
       "1       False\n",
       "2        True\n",
       "3        True\n",
       "4       False\n",
       "5        True\n",
       "6       False\n",
       "7        True\n",
       "8       False\n",
       "9        True\n",
       "10      False\n",
       "11      False\n",
       "12      False\n",
       "13      False\n",
       "14      False\n",
       "15      False\n",
       "16      False\n",
       "17      False\n",
       "18       True\n",
       "19      False\n",
       "20      False\n",
       "21       True\n",
       "22       True\n",
       "23       True\n",
       "24      False\n",
       "25       True\n",
       "26       True\n",
       "27      False\n",
       "28      False\n",
       "29       True\n",
       "        ...  \n",
       "1864     True\n",
       "1865    False\n",
       "1866     True\n",
       "1867     True\n",
       "1868    False\n",
       "1869     True\n",
       "1870    False\n",
       "1871     True\n",
       "1872     True\n",
       "1873    False\n",
       "1874    False\n",
       "1875    False\n",
       "1876    False\n",
       "1877    False\n",
       "1878     True\n",
       "1879    False\n",
       "1880    False\n",
       "1881    False\n",
       "1882    False\n",
       "1883    False\n",
       "1884    False\n",
       "1885     True\n",
       "1886    False\n",
       "1887     True\n",
       "1888     True\n",
       "1889     True\n",
       "1890    False\n",
       "1891     True\n",
       "1892    False\n",
       "1893      NaN\n",
       "Name: word, dtype: object"
      ]
     },
     "execution_count": 145,
     "metadata": {},
     "output_type": "execute_result"
    }
   ],
   "source": [
    "df['word'].dropna()\n",
    "df['word'].str.contains(\"fuck\") # check if the word fuck appears in the word"
   ]
  },
  {
   "cell_type": "markdown",
   "metadata": {},
   "source": [
    "# Fuck (Marry) Kill movie ratings\n",
    "We plan on building a rating system for Tarantino movies that is based on what happens more in a specific film; the word fuck, (someone marrying not implemented), or someone dying."
   ]
  },
  {
   "cell_type": "code",
   "execution_count": 146,
   "metadata": {
    "collapsed": false
   },
   "outputs": [],
   "source": [
    "kill = {}\n",
    "fuck = {}\n",
    "for val in df.iterrows():\n",
    "    if val[1][1] == \"death\":\n",
    "        if val[1][0] not in kill:\n",
    "            kill[val[1][0]] = 1\n",
    "        else:\n",
    "            kill[val[1][0]] += 1\n",
    "    else:\n",
    "        if 'fuck' in val[1][2]:\n",
    "            if val[1][0] not in fuck:\n",
    "                fuck[val[1][0]] = 1\n",
    "            else:\n",
    "                fuck[val[1][0]] += 1"
   ]
  },
  {
   "cell_type": "code",
   "execution_count": 147,
   "metadata": {
    "collapsed": false
   },
   "outputs": [
    {
     "name": "stdout",
     "output_type": "stream",
     "text": [
      "{'Pulp Fiction': 7, 'Reservoir Dogs': 10, 'Jackie Brown': 4, 'Kill Bill: Vol. 2': 11, 'Kill Bill: Vol. 1': 63, 'Inglorious Basterds': 48, 'Django Unchained': 47}\n"
     ]
    }
   ],
   "source": [
    "print kill"
   ]
  },
  {
   "cell_type": "code",
   "execution_count": 148,
   "metadata": {
    "collapsed": false
   },
   "outputs": [
    {
     "name": "stdout",
     "output_type": "stream",
     "text": [
      "{'Pulp Fiction': 267, 'Reservoir Dogs': 271, 'Jackie Brown': 140, 'Kill Bill: Vol. 2': 24, 'Kill Bill: Vol. 1': 17, 'Inglorious Basterds': 21, 'Django Unchained': 32}\n"
     ]
    }
   ],
   "source": [
    "print fuck"
   ]
  },
  {
   "cell_type": "code",
   "execution_count": 155,
   "metadata": {
    "collapsed": false
   },
   "outputs": [
    {
     "data": {
      "image/png": "[encoded data removed]",
      "text/plain": [
       "<matplotlib.figure.Figure at 0x111a88210>"
      ]
     },
     "metadata": {},
     "output_type": "display_data"
    }
   ],
   "source": [
    "N = 7\n",
    "ind = np.arange(N)\n",
    "width = .35\n",
    "\n",
    "movies = []\n",
    "for key in kill:\n",
    "    movies.append(key)\n",
    "\n",
    "kills = []\n",
    "for key in kill:\n",
    "    kills.append(kill[key])\n",
    "    \n",
    "fucks = []\n",
    "for key in fuck:\n",
    "    fucks.append(fuck[key])\n",
    "\n",
    "fig, ax = plt.subplots()\n",
    "rects1 = ax.bar(ind, kills, width, color='r')\n",
    "rects2 = ax.bar(ind + width, fucks, width, color='b')\n",
    "\n",
    "\n",
    "mpl.rcParams.update({'font.size': 100})\n",
    "\n",
    "ax.set_ylabel(\"Number of occurences\")\n",
    "ax.set_xlabel(\"Movie\")\n",
    "ax.set_xticks(ind + width)\n",
    "labels = ax.set_xticklabels(movies)\n",
    "ax.legend((rects1[0], rects2[0]), ('Kills', 'Fucks'))\n",
    "plt.setp(labels, rotation = 90)\n",
    "ax.set_title('Fuck (married to) Kill')\n",
    "fig.set_size_inches(12.5, 7.5)\n",
    "\n",
    "plt.savefig('graph.png')\n",
    "\n",
    "plt.show()"
   ]
  },
  {
   "cell_type": "code",
   "execution_count": null,
   "metadata": {
    "collapsed": true
   },
   "outputs": [],
   "source": []
  }
 ],
 "metadata": {
  "kernelspec": {
   "display_name": "Python 2",
   "language": "python",
   "name": "python2"
  },
  "language_info": {
   "codemirror_mode": {
    "name": "ipython",
    "version": 2
   },
   "file_extension": ".py",
   "mimetype": "text/x-python",
   "name": "python",
   "nbconvert_exporter": "python",
   "pygments_lexer": "ipython2",
   "version": "2.7.10"
  }
 },
 "nbformat": 4,
 "nbformat_minor": 0
}
