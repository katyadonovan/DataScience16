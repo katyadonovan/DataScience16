{
 "cells": [
  {
   "cell_type": "markdown",
   "metadata": {},
   "source": [
    "Exercise from Think Stats, 2nd Edition (thinkstats2.com)<br>\n",
    "Allen Downey"
   ]
  },
  {
   "cell_type": "code",
   "execution_count": 3,
   "metadata": {
    "collapsed": false
   },
   "outputs": [],
   "source": [
    "%matplotlib inline\n",
    "import nsfg\n",
    "import thinkstats2\n",
    "import pandas as pd\n",
    "import numpy as np\n",
    "from sklearn.linear_model import LinearRegression"
   ]
  },
  {
   "cell_type": "markdown",
   "metadata": {},
   "source": [
    "Suppose one of your co-workers is expecting a baby and you are participating in an office pool to predict the date of birth. Assuming that bets are placed during the 30th week of pregnancy, what variables could you use to make the best prediction? You should limit yourself to variables that are known before the birth, and likely to be available to the people in the pool. "
   ]
  },
  {
   "cell_type": "code",
   "execution_count": 4,
   "metadata": {
    "collapsed": false
   },
   "outputs": [],
   "source": [
    "data = nsfg.ReadFemPreg()\n",
    "data_filtered = data[(data.prglngth > 30) & (data.prgoutcome == 1)]"
   ]
  },
  {
   "cell_type": "code",
   "execution_count": 6,
   "metadata": {
    "collapsed": true
   },
   "outputs": [],
   "source": [
    "# From solution set\n",
    "def ReadFemResp(dct_file='2002FemResp.dct',\n",
    "                dat_file='2002FemResp.dat.gz',\n",
    "                nrows=None):\n",
    "    \"\"\"Reads the NSFG respondent data.\n",
    "\n",
    "    dct_file: string file name\n",
    "    dat_file: string file name\n",
    "\n",
    "    returns: DataFrame\n",
    "    \"\"\"\n",
    "    dct = thinkstats2.ReadStataDct(dct_file)\n",
    "    df = dct.ReadFixedWidth(dat_file, compression='gzip', nrows=nrows)\n",
    "    return df\n",
    "\n",
    "respondents = ReadFemResp()"
   ]
  },
  {
   "cell_type": "code",
   "execution_count": 7,
   "metadata": {
    "collapsed": false
   },
   "outputs": [
    {
     "name": "stdout",
     "output_type": "stream",
     "text": [
      "Number of columns joined 3331\n",
      "Number of columns original 244\n",
      "rcurpreg_i nan\n",
      "pregnum_i nan\n",
      "birthwgt_lb 0.119773078049\n",
      "mosgest 0.0956243198959\n",
      "race 0.000314402188093\n",
      "birthord_i nan\n",
      "prgoutcome nan\n",
      "nbrnaliv 0.00457756578553\n",
      "cmlastlb 0.0020431424422\n",
      "fmarcon5_i 0.00196815932425\n",
      "birthord 0.00123727367366\n",
      "gestasun_w 0.00105137990872\n",
      "outcome_i nan\n",
      "poverty 0.0011234153757\n",
      "cmintstr 0.000873969295819\n",
      "educat 0.000590682440337\n",
      "wantresp 0.00049918540108\n",
      "ager_i nan\n",
      "fmarital_i nan\n",
      "fmarital 0.000572478064053\n"
     ]
    }
   ],
   "source": [
    "# From solutions\n",
    "joined = data_filtered.join(respondents, on='caseid', rsuffix='_r')\n",
    "print \"Number of columns joined\", len(joined.columns)\n",
    "print \"Number of columns original\", len(data_filtered.columns)\n",
    "\n",
    "data_mining = {}\n",
    "for column_name, column_data in joined.iteritems():\n",
    "    if column_name == 'prglngth':\n",
    "        continue\n",
    "    if column_data.isnull().mean() < 0.10:\n",
    "        relevant_columns = pd.concat((column_data, joined.prglngth), axis=1).dropna()\n",
    "        try:\n",
    "            intercept, slope = thinkstats2.LeastSquares(relevant_columns[column_name],\n",
    "                                                        relevant_columns.prglngth)\n",
    "            res = slope*relevant_columns[column_name]+intercept - relevant_columns.prglngth\n",
    "            data_mining[column_name] = thinkstats2.CoefDetermination(relevant_columns.prglngth,\n",
    "                                                                     res)\n",
    "        except Exception as ex:\n",
    "            print ex\n",
    "\n",
    "for w in sorted(data_mining, key=data_mining.get, reverse=True)[0:20]:\n",
    "    print w, data_mining[w]"
   ]
  },
  {
   "cell_type": "code",
   "execution_count": 8,
   "metadata": {
    "collapsed": false
   },
   "outputs": [
    {
     "name": "stdout",
     "output_type": "stream",
     "text": [
      "RMS model 1.89264008596\n",
      "RMS baseline 1.89815725743\n"
     ]
    }
   ],
   "source": [
    "model = LinearRegression()\n",
    "filtered = joined.dropna(subset=['birthord', 'race', 'nbrnaliv', 'fmarcon5','prglngth'])\n",
    "X = filtered[['birthord', 'race', 'nbrnaliv', 'fmarcon5']]\n",
    "y = filtered.prglngth\n",
    "model.fit(X, y)\n",
    "print \"RMS model\", np.sqrt(((model.predict(X) - y)**2).mean())\n",
    "print \"RMS baseline\", np.sqrt(((y - y.mean())**2).mean())"
   ]
  },
  {
   "cell_type": "markdown",
   "metadata": {},
   "source": [
    "## Clarifying Questions\n",
    "\n",
    "Use this space to ask questions regarding the content covered in the reading. These questions should be restricted to helping you better understand the material. For questions that push beyond what is in the reading, use the next answer field. If you don't have a fully formed question, but are generally having a difficult time with a topic, you can indicate that here as well."
   ]
  },
  {
   "cell_type": "markdown",
   "metadata": {},
   "source": []
  },
  {
   "cell_type": "markdown",
   "metadata": {},
   "source": [
    "## Enrichment Questions\n",
    "\n",
    "Use this space to ask any questions that go beyond (but are related to) the material presented in this reading. Perhaps there is a particular topic you'd like to see covered in more depth. Perhaps you'd like to know how to use a library in a way that wasn't show in the reading. One way to think about this is what additional topics would you want covered in the next class (or addressed in a followup e-mail to the class). I'm a little fuzzy on what stuff will likely go here, so we'll see how things evolve."
   ]
  },
  {
   "cell_type": "markdown",
   "metadata": {},
   "source": []
  },
  {
   "cell_type": "markdown",
   "metadata": {},
   "source": [
    "## Additional Resources / Explorations\n",
    "\n",
    "If you found any useful resources, or tried some useful exercises that you'd like to report please do so here. Let us know what you did, what you learned, and how others can replicate it."
   ]
  },
  {
   "cell_type": "markdown",
   "metadata": {},
   "source": []
  }
 ],
 "metadata": {
  "kernelspec": {
   "display_name": "Python 2",
   "language": "python",
   "name": "python2"
  },
  "language_info": {
   "codemirror_mode": {
    "name": "ipython",
    "version": 2
   },
   "file_extension": ".py",
   "mimetype": "text/x-python",
   "name": "python",
   "nbconvert_exporter": "python",
   "pygments_lexer": "ipython2",
   "version": "2.7.10"
  }
 },
 "nbformat": 4,
 "nbformat_minor": 0
}
